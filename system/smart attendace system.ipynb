{
 "cells": [
  {
   "cell_type": "code",
   "execution_count": 3,
   "id": "265358b1",
   "metadata": {},
   "outputs": [],
   "source": [
    "from tkinter import *\n",
    "from tkinter import ttk\n",
    "from PIL import Image,ImageTk\n",
    "\n",
    "\n",
    "\n",
    "\n"
   ]
  },
  {
   "cell_type": "code",
   "execution_count": 4,
   "id": "3f45fbaa",
   "metadata": {},
   "outputs": [],
   "source": [
    "class Face_REcognition_system:\n",
    "    def __init__(self,root):\n",
    "        self.root=root\n",
    "        self.root.geometry(\"1530x790+0+0\")\n",
    "        self.root.title(\"face recogniton system\")   \n",
    "\n",
    "\n",
    "\n",
    "        img=Image.open(r\"E:\\python\\system\\image\\upperbanner.jpg\")\n",
    "        img=img.resize((500,130),Image.ANTIALIAS)\n",
    "        self.varimg=ImageTk.PhotoImage(img)\n",
    "\n",
    "        pelu_lbl=Label(self.root,Image=self.varimg)\n",
    "        pelu_lbl.place(x=0,y=0,width=500,height=130)"
   ]
  },
  {
   "cell_type": "code",
   "execution_count": null,
   "id": "b30111c8",
   "metadata": {},
   "outputs": [],
   "source": []
  }
 ],
 "metadata": {
  "kernelspec": {
   "display_name": "Python 3",
   "language": "python",
   "name": "python3"
  }
 },
 "nbformat": 4,
 "nbformat_minor": 5
}
